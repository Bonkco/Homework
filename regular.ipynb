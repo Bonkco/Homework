{
 "cells": [
  {
   "cell_type": "code",
   "execution_count": 44,
   "metadata": {},
   "outputs": [
    {
     "name": "stdout",
     "output_type": "stream",
     "text": [
      "gmail.com: 2\n",
      "test.in: 1\n",
      "ya.ru: 2\n",
      "mail.ru: 1\n"
     ]
    }
   ],
   "source": [
    "#Задание четвертое\n",
    "import re\n",
    "\n",
    "emails = ['test@gmail.com', 'xyz@test.in', 'test@ya.ru', 'xyz@mail.ru', 'xyz@ya.ru', 'xyz@gmail.com']\n",
    "em = ' '.join(emails)\n",
    "\n",
    "gmail=0\n",
    "gm = re.findall(r'gmail.com', em)\n",
    "gmail=+(len(gm))\n",
    "print('gmail.com:',gmail)\n",
    "\n",
    "test=0\n",
    "t=re.findall(r'test.in', em)\n",
    "test+=(len(t))\n",
    "print('test.in:',test)\n",
    "\n",
    "ya=0\n",
    "y=re.findall(r'ya.ru', em)\n",
    "ya+=(len(y))\n",
    "print('ya.ru:',ya)\n",
    "\n",
    "mail=0\n",
    "m=re.findall(r'mail.ru', em)\n",
    "mail+=(len(m))\n",
    "print('mail.ru:',mail)"
   ]
  },
  {
   "cell_type": "code",
   "execution_count": 46,
   "metadata": {},
   "outputs": [
    {
     "name": "stdout",
     "output_type": "stream",
     "text": [
      "Ит\n",
      "NFC\n"
     ]
    }
   ],
   "source": [
    "#Задание третье\n",
    "\n",
    "def words(w):\n",
    "    print(re.sub(r'([а-яёА-ЯЁa-zA-Z]{1})(\\w+)\\s?', r'\\1', w))\n",
    "words('Информационные технологии')\n",
    "words('Near Field Communication')"
   ]
  },
  {
   "cell_type": "code",
   "execution_count": 42,
   "metadata": {},
   "outputs": [
    {
     "name": "stdout",
     "output_type": "stream",
     "text": [
      "Напишите функцию, которая будет удалять все последовательные повторы слов из заданной строки при помощи регулярных выражений.\n"
     ]
    }
   ],
   "source": [
    "#Задание второе\n",
    "\n",
    "def some_string(st):\n",
    "    print(re.sub(r'(\\w+)(\\s\\1)+', r'\\1', st))\n",
    "    \n",
    "some_string('''Напишите функцию функцию, которая будет будет будет будет удалять все все\n",
    "все все последовательные повторы слов из из из из заданной строки строки при помощи регулярных выражений.''')"
   ]
  },
  {
   "cell_type": "code",
   "execution_count": 158,
   "metadata": {},
   "outputs": [
    {
     "name": "stdout",
     "output_type": "stream",
     "text": [
      "Номер: А222ВС валиден. Код региона: 93\n",
      "Номер не валиден\n"
     ]
    }
   ],
   "source": [
    "#Задание первое\n",
    "\n",
    "def number(car_id):\n",
    "    id_pattern = r'[АВЕКМНОРСТУХ]{1}\\d{3}[АВЕКМНОРСТУХ]{2}\\d{2,3}'\n",
    "    for pattern in car_id:\n",
    "        if re.match(id_pattern, car_id):\n",
    "            for first in re.findall(r'[АВЕКМНОРСТУХ]{1}\\d{3}[АВЕКМНОРСТУХ]{2}', car_id):\n",
    "                second=re.split(r'[АВЕКМНОРСТУХ]{1}\\d{3}[АВЕКМНОРСТУХ]{2}', car_id)\n",
    "                for second1 in second[1:]:\n",
    "                    print('Номер:', first, 'валиден. Код региона:', second1)\n",
    "                    break\n",
    "                break\n",
    "            break\n",
    "        else:\n",
    "            print('Номер не валиден')\n",
    "            break\n",
    "number('А222ВС93')\n",
    "number('АБ22ВВ193')"
   ]
  },
  {
   "cell_type": "code",
   "execution_count": 41,
   "metadata": {},
   "outputs": [],
   "source": []
  }
 ],
 "metadata": {
  "kernelspec": {
   "display_name": "Python 3",
   "language": "python",
   "name": "python3"
  },
  "language_info": {
   "codemirror_mode": {
    "name": "ipython",
    "version": 3
   },
   "file_extension": ".py",
   "mimetype": "text/x-python",
   "name": "python",
   "nbconvert_exporter": "python",
   "pygments_lexer": "ipython3",
   "version": "3.8.3"
  }
 },
 "nbformat": 4,
 "nbformat_minor": 4
}
