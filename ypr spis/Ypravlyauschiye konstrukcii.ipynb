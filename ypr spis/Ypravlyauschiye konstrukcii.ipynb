{
 "cells": [
  {
   "cell_type": "code",
   "execution_count": 7,
   "metadata": {},
   "outputs": [
    {
     "name": "stdout",
     "output_type": "stream",
     "text": [
      "tn\n",
      "h\n"
     ]
    }
   ],
   "source": [
    "#первое задание\n",
    "\n",
    "word1 = 'chetnoye'\n",
    "word2 = 'notchetnoye'\n",
    "if len(word1)%2==0:\n",
    "    print(word1[3:5])\n",
    "if len(word2)%2!=0:\n",
    "    print(word2[4])"
   ]
  },
  {
   "cell_type": "code",
   "execution_count": 22,
   "metadata": {},
   "outputs": [
    {
     "name": "stdout",
     "output_type": "stream",
     "text": [
      "Введите число: 1\n",
      "Введите число: 2\n",
      "Введите число: 3\n",
      "Введите число: 43\n",
      "Введите число: 0\n",
      "49\n"
     ]
    }
   ],
   "source": [
    "#второе задание\n",
    "\n",
    "counter = 0\n",
    "will_continue = True\n",
    "\n",
    "while will_continue:\n",
    "    user_input = int(input('Введите число: '))\n",
    "    if user_input == 0:\n",
    "        print(counter)\n",
    "        will_continue = False\n",
    "    else:\n",
    "        counter += user_input"
   ]
  },
  {
   "cell_type": "code",
   "execution_count": 55,
   "metadata": {},
   "outputs": [
    {
     "name": "stdout",
     "output_type": "stream",
     "text": [
      "Alex и Emma\n",
      "Arthur и Kate\n",
      "John и Kira\n",
      "Peter и Liza\n",
      "Richard и Trisha\n",
      "\n",
      "Внимание, кто-то может остаться без пары!\n"
     ]
    }
   ],
   "source": [
    "#третье задание\n",
    "\n",
    "boys = ['Peter', 'Alex', 'John', 'Arthur', 'Richard']\n",
    "girls = ['Kate', 'Liza', 'Kira', 'Emma', 'Trisha']\n",
    "\n",
    "print((sorted(boys)[0]), 'и', (sorted(girls)[0]))\n",
    "print((sorted(boys)[1]), 'и', (sorted(girls)[1]))\n",
    "print((sorted(boys)[2]), 'и', (sorted(girls)[2]))\n",
    "print((sorted(boys)[3]), 'и', (sorted(girls)[3]))\n",
    "print((sorted(boys)[4]), 'и', (sorted(girls)[4]))\n",
    "\n",
    "boys.append('Vasya')\n",
    "if len(boys)!=len(girls):\n",
    "    print()\n",
    "    print('Внимание, кто-то может остаться без пары!')\n",
    "    "
   ]
  },
  {
   "cell_type": "code",
   "execution_count": 4,
   "metadata": {},
   "outputs": [
    {
     "name": "stdout",
     "output_type": "stream",
     "text": [
      "Cредняя температура в странах:\n",
      "Thailand 23.9\n",
      "Germany 13.8\n",
      "Russia 3.7\n",
      "Poland 12.0\n"
     ]
    }
   ],
   "source": [
    "#четвертое задание\n",
    "\n",
    "countries_temperature = [\n",
    "['Thailand', [75.2, 77, 78.8, 73.4, 68, 75.2, 77]],\n",
    "['Germany', [57.2, 55.4, 59, 59, 53.6]],\n",
    "['Russia', [35.6, 37.4, 39.2, 41, 42.8, 39.2, 35.6]],\n",
    "['Poland', [50, 50, 53.6, 57.2, 55.4, 55.4]]\n",
    "]\n",
    "\n",
    "thaitemp = float('{:.1f}'.format((sum(countries_temperature[0][1])/len(countries_temperature[0][1])-32)*5/9))\n",
    "\n",
    "germtemp = float('{:.1f}'.format((sum(countries_temperature[1][1])/len(countries_temperature[1][1])-32)*5/9))\n",
    "\n",
    "rustemp = float('{:.1f}'.format((sum(countries_temperature[2][1])/len(countries_temperature[2][1])-32)*5/9))\n",
    "\n",
    "poltemp = float('{:.1f}'.format((sum(countries_temperature[3][1])/len(countries_temperature[3][1])-32)*5/9))\n",
    "\n",
    "print('Cредняя температура в странах:')\n",
    "print('Thailand',thaitemp)\n",
    "print('Germany',germtemp)\n",
    "print('Russia',rustemp)\n",
    "print('Poland',poltemp)\n"
   ]
  },
  {
   "cell_type": "code",
   "execution_count": null,
   "metadata": {},
   "outputs": [],
   "source": []
  }
 ],
 "metadata": {
  "kernelspec": {
   "display_name": "Python 3",
   "language": "python",
   "name": "python3"
  },
  "language_info": {
   "codemirror_mode": {
    "name": "ipython",
    "version": 3
   },
   "file_extension": ".py",
   "mimetype": "text/x-python",
   "name": "python",
   "nbconvert_exporter": "python",
   "pygments_lexer": "ipython3",
   "version": "3.8.3"
  }
 },
 "nbformat": 4,
 "nbformat_minor": 4
}
