{
 "cells": [
  {
   "cell_type": "code",
   "execution_count": 5,
   "metadata": {},
   "outputs": [],
   "source": [
    "#Задание 1\n",
    "#Cкачайте с сайта https://grouplens.org/datasets/movielens/ датасет любого размера. \n",
    "#    Определите какому фильму было выставлено больше всего оценок 5.0.\n",
    "#\n",
    "#Задание 2\n",
    "#По данным файла power.csv посчитайте суммарное потребление стран Прибалтики (Латвия, Литва и Эстония) категорий 4, 12 и 21 \n",
    "#за период с 2005 по 2010 года. Не учитывайте в расчетах отрицательные значения quantity.\n",
    "#\n",
    "#Задание 3\n",
    "#Выберите страницу любого сайта с табличными данными. Импортируйте таблицы в pandas dataframe.\n",
    "#Примеры страниц (необязательно брать именно эти):\n",
    "#https://fortrader.org/quotes\n",
    "#https://www.finanz.ru/valyuty/v-realnom-vremeni"
   ]
  },
  {
   "cell_type": "code",
   "execution_count": 1,
   "metadata": {},
   "outputs": [],
   "source": [
    "import pandas as pd"
   ]
  },
  {
   "cell_type": "code",
   "execution_count": 193,
   "metadata": {},
   "outputs": [
    {
     "data": {
      "text/html": [
       "<div>\n",
       "<style scoped>\n",
       "    .dataframe tbody tr th:only-of-type {\n",
       "        vertical-align: middle;\n",
       "    }\n",
       "\n",
       "    .dataframe tbody tr th {\n",
       "        vertical-align: top;\n",
       "    }\n",
       "\n",
       "    .dataframe thead th {\n",
       "        text-align: right;\n",
       "    }\n",
       "</style>\n",
       "<table border=\"1\" class=\"dataframe\">\n",
       "  <thead>\n",
       "    <tr style=\"text-align: right;\">\n",
       "      <th></th>\n",
       "      <th>movieId</th>\n",
       "      <th>userId</th>\n",
       "      <th>rating</th>\n",
       "      <th>timestamp</th>\n",
       "      <th>title</th>\n",
       "      <th>genres</th>\n",
       "    </tr>\n",
       "  </thead>\n",
       "  <tbody>\n",
       "    <tr>\n",
       "      <th>0</th>\n",
       "      <td>318</td>\n",
       "      <td>153</td>\n",
       "      <td>153</td>\n",
       "      <td>153</td>\n",
       "      <td>Shawshank Redemption, The (1994)</td>\n",
       "      <td>Crime|Drama</td>\n",
       "    </tr>\n",
       "  </tbody>\n",
       "</table>\n",
       "</div>"
      ],
      "text/plain": [
       "   movieId  userId  rating  timestamp                             title  \\\n",
       "0      318     153     153        153  Shawshank Redemption, The (1994)   \n",
       "\n",
       "        genres  \n",
       "0  Crime|Drama  "
      ]
     },
     "execution_count": 193,
     "metadata": {},
     "output_type": "execute_result"
    }
   ],
   "source": [
    "#задание первое\n",
    "movie = pd.read_csv('movies.csv')\n",
    "rating = pd.read_csv('ratings.csv')\n",
    "\n",
    "fivestarrating = rating[rating['rating'] == 5.0]\n",
    "winner = fivestarrating.groupby('movieId').count().sort_values('rating', ascending = False)\n",
    "\n",
    "joined = winner.merge(movie, on='movieId', how='left')\n",
    "joined.head(1)\n",
    "\n"
   ]
  },
  {
   "cell_type": "code",
   "execution_count": 5,
   "metadata": {},
   "outputs": [
    {
     "name": "stdout",
     "output_type": "stream",
     "text": [
      "суммарное потребление стран Прибалтики: 5943\n"
     ]
    }
   ],
   "source": [
    "#задание второе\n",
    "\n",
    "data = pd.read_csv('power.csv')\n",
    "baltic = data[(data['country']=='Estonia') | (data['country']=='Lithuania') | (data['country']=='Latvia')] \n",
    "#print(data)\n",
    "\n",
    "baltic_positive_quantity = baltic.query(f'quantity > {0}')\n",
    "sorted_years_before_2010 = baltic_positive_quantity[baltic_positive_quantity.year < 2011]\n",
    "sorted_yearsall = sorted_years_before_2010[sorted_years_before_2010.year > 2004]\n",
    "category_sorted = sorted_yearsall[(sorted_yearsall['category']==4) | (sorted_yearsall['category']==12) | (sorted_yearsall['category']==21)]\n",
    "result = sum(category_sorted['category']) \n",
    "\n",
    "print('суммарное потребление стран Прибалтики:', result)"
   ]
  },
  {
   "cell_type": "code",
   "execution_count": 23,
   "metadata": {},
   "outputs": [
    {
     "data": {
      "text/plain": [
       "[    Unnamed: 0              Рубль  Предложение  Спрос  Предыдущее закрытие  \\\n",
       " 0          NaN            GBP/RUB      1005146      -               988701   \n",
       " 1          NaN            EUR/RUB       901655      -               901795   \n",
       " 2          NaN            USD/RUB       741805      -               740205   \n",
       " 3          NaN            JPY/RUB        07167      -                07156   \n",
       " 4          NaN            CNY/RUB       113396      -               113210   \n",
       " 5          NaN            CHF/RUB       833864      -               832509   \n",
       " 6          NaN               Евро  Предложение  Спрос  Предыдущее закрытие   \n",
       " 7          NaN            EUR/USD        12153      -                12183   \n",
       " 8          NaN            EUR/GBP        09195      -                08987   \n",
       " 9          NaN            EUR/JPY      1257750      -              1257750   \n",
       " 10         NaN            EUR/CHF        10805      -                10805   \n",
       " 11         NaN         Доллар США  Предложение  Спрос  Предыдущее закрытие   \n",
       " 12         NaN            USD/EUR        08228      -                08141   \n",
       " 13         NaN            USD/GBP        07380      -                07491   \n",
       " 14         NaN            USD/JPY      1035050      -              1036700   \n",
       " 15         NaN            USD/CHF        08896      -                08910   \n",
       " 16         NaN      Японская иена  Предложение  Спрос  Предыдущее закрытие   \n",
       " 17         NaN    JPY/EUR (100:1)        08000      -                07900   \n",
       " 18         NaN            JPY/GBP        00071      -                00072   \n",
       " 19         NaN            JPY/USD        00097      -                00097   \n",
       " 20         NaN    JPY/CHF (100:1)        08600      -                08600   \n",
       " 21         NaN    Фунт стерлингов  Предложение  Спрос  Предыдущее закрытие   \n",
       " 22         NaN            GBP/USD        13550      -                13571   \n",
       " 23         NaN            GBP/JPY      1402493      -              1381725   \n",
       " 24         NaN            GBP/EUR        11144      -                11139   \n",
       " 25         NaN            GBP/CHF        12050      -                12093   \n",
       " 26         NaN  Швейцарский франк  Предложение  Спрос  Предыдущее закрытие   \n",
       " 27         NaN            GBP/CHF        12050      -                12093   \n",
       " 28         NaN            EUR/CHF        10805      -                10805   \n",
       " 29         NaN    JPY/CHF (100:1)        08600      -                08600   \n",
       " 30         NaN            USD/CHF        08896      -                08910   \n",
       " 31         NaN  Украинская гривна  Предложение  Спрос  Предыдущее закрытие   \n",
       " 32         NaN            EUR/UAH       345753      -               348422   \n",
       " 33         NaN            USD/UAH       284500      -               283650   \n",
       " 34         NaN            CHF/UAH       319807      -               318851   \n",
       " 35         NaN            GBP/UAH       385498      -               378673   \n",
       " \n",
       "           %  Абсолютное значение       Время  \n",
       " 0    1,66 %                16445  26.12.2020  \n",
       " 1   -0,02 %               -00140  25.12.2020  \n",
       " 2    0,22 %                01600  26.12.2020  \n",
       " 3    0,16 %                00011  26.12.2020  \n",
       " 4    0,16 %                00185  26.12.2020  \n",
       " 5    0,16 %                01355  26.12.2020  \n",
       " 6         %  Абсолютное значение       Время  \n",
       " 7   -0,24 %               -00030  26.12.2020  \n",
       " 8    2,31 %                00208  26.12.2020  \n",
       " 9    0,00 %                00000  26.12.2020  \n",
       " 10   0,00 %                00000  26.12.2020  \n",
       " 11        %  Абсолютное значение       Время  \n",
       " 12   1,07 %                00087  26.12.2020  \n",
       " 13  -1,48 %               -00111  26.12.2020  \n",
       " 14  -0,16 %               -01650  26.12.2020  \n",
       " 15  -0,16 %               -00014  26.12.2020  \n",
       " 16        %  Абсолютное значение       Время  \n",
       " 17   1,07 %                00001  26.12.2020  \n",
       " 18  -1,48 %               -00001  26.12.2020  \n",
       " 19   0,00 %                00000  26.12.2020  \n",
       " 20  -0,04 %                00000  26.12.2020  \n",
       " 21        %  Абсолютное значение       Время  \n",
       " 22  -0,15 %               -00021  26.12.2020  \n",
       " 23   1,50 %                20768  26.12.2020  \n",
       " 24   0,04 %                00005  25.12.2020  \n",
       " 25  -0,36 %               -00043  26.12.2020  \n",
       " 26        %  Абсолютное значение       Время  \n",
       " 27  -0,36 %               -00043  26.12.2020  \n",
       " 28   0,00 %                00000  26.12.2020  \n",
       " 29  -0,04 %                00000  26.12.2020  \n",
       " 30  -0,16 %               -00014  26.12.2020  \n",
       " 31        %  Абсолютное значение       Время  \n",
       " 32  -0,77 %               -02668  26.12.2020  \n",
       " 33   0,30 %                00850  26.12.2020  \n",
       " 34   0,30 %                00956  26.12.2020  \n",
       " 35   1,80 %                06825  26.12.2020  ]"
      ]
     },
     "execution_count": 23,
     "metadata": {},
     "output_type": "execute_result"
    }
   ],
   "source": [
    "#задание третье\n",
    "\n",
    "tables_url = 'https://www.finanz.ru/valyuty/v-realnom-vremeni'\n",
    "\n",
    "tables = pd.read_html(tables_url, attrs = {'class': 'quote_list'}, encoding='utf-8')\n",
    "tables[:5]"
   ]
  }
 ],
 "metadata": {
  "kernelspec": {
   "display_name": "Python 3",
   "language": "python",
   "name": "python3"
  },
  "language_info": {
   "codemirror_mode": {
    "name": "ipython",
    "version": 3
   },
   "file_extension": ".py",
   "mimetype": "text/x-python",
   "name": "python",
   "nbconvert_exporter": "python",
   "pygments_lexer": "ipython3",
   "version": "3.8.3"
  }
 },
 "nbformat": 4,
 "nbformat_minor": 4
}
