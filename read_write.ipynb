{
 "cells": [
  {
   "cell_type": "code",
   "execution_count": null,
   "metadata": {},
   "outputs": [],
   "source": [
    "import json\n",
    "purchases = {}\n",
    "i = 0\n",
    "with open('purchase_log.txt', 'r', encoding='utf-8') as f:\n",
    "    for x in f:\n",
    "        line = f.readline().strip()\n",
    "        f1 = json.loads(x)\n",
    "        purchases[f1['user_id']] = f1['category']\n",
    "#print(purchases['4e4f90fcfb'])\n",
    "with open ('visit_log.csv', 'r', encoding='utf-8') as visit:\n",
    "    with open ('funnel.csv', 'w', encoding='utf-8') as funnel:\n",
    "        for vis in visit:\n",
    "            visit = vis.strip().split(',')\n",
    "            for user,category1 in purchases.items():\n",
    "                if visit[0] == user:\n",
    "                    funnel.write(visit[1])\n",
    "                    funnel.write(', ')\n",
    "                    funnel.write(category1)\n",
    "                    funnel.write('\\n')"
   ]
  },
  {
   "cell_type": "code",
   "execution_count": null,
   "metadata": {},
   "outputs": [],
   "source": []
  }
 ],
 "metadata": {
  "kernelspec": {
   "display_name": "Python 3",
   "language": "python",
   "name": "python3"
  },
  "language_info": {
   "codemirror_mode": {
    "name": "ipython",
    "version": 3
   },
   "file_extension": ".py",
   "mimetype": "text/x-python",
   "name": "python",
   "nbconvert_exporter": "python",
   "pygments_lexer": "ipython3",
   "version": "3.8.3"
  }
 },
 "nbformat": 4,
 "nbformat_minor": 4
}
