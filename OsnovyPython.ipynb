{
 "cells": [
  {
   "cell_type": "code",
   "execution_count": 17,
   "metadata": {},
   "outputs": [
    {
     "name": "stdout",
     "output_type": "stream",
     "text": [
      "Фраза 1 длиннее фразы 2\n"
     ]
    }
   ],
   "source": [
    "#первое задание\n",
    "\n",
    "phrase_1 = 'Насколько проще было бы писать программы, если бы не заказчики'\n",
    "phrase_2 = '640Кб должно хватить для любых задач. Билл Гейтс (по легенде)'\n",
    "if len(phrase_1) > len(phrase_2):\n",
    "    print('Фраза 1 длиннее фразы 2')\n",
    "    \n",
    "\n"
   ]
  },
  {
   "cell_type": "code",
   "execution_count": 20,
   "metadata": {},
   "outputs": [
    {
     "name": "stdout",
     "output_type": "stream",
     "text": [
      "Фраза 2 длиннее фразы 1\n"
     ]
    }
   ],
   "source": [
    "phrase_3 = '640Кб должно хватить для любых задач. Билл Гейтс (по легенде)'\n",
    "phrase_4 = 'Насколько проще было бы писать программы, если бы не заказчики'\n",
    "if len(phrase_3) < len(phrase_4):\n",
    "    print('Фраза 2 длиннее фразы 1')"
   ]
  },
  {
   "cell_type": "code",
   "execution_count": 23,
   "metadata": {},
   "outputs": [
    {
     "name": "stdout",
     "output_type": "stream",
     "text": [
      "Фразы равной длины\n"
     ]
    }
   ],
   "source": [
    "phrase_5 = 'Насколько проще было бы писать программы, если бы не заказчики'\n",
    "phrase_6 = 'Насколько проще было бы писать программы, если бы не заказчики'\n",
    "if len(phrase_5) == len(phrase_6):\n",
    "    print('Фразы равной длины')"
   ]
  },
  {
   "cell_type": "code",
   "execution_count": 12,
   "metadata": {},
   "outputs": [
    {
     "name": "stdout",
     "output_type": "stream",
     "text": [
      "Високосный год\n"
     ]
    }
   ],
   "source": [
    "#второе задание\n",
    "\n",
    "year = 2020\n",
    "if 2020 % 4 == 0:\n",
    "    print('Високосный год')"
   ]
  },
  {
   "cell_type": "code",
   "execution_count": 11,
   "metadata": {},
   "outputs": [
    {
     "name": "stdout",
     "output_type": "stream",
     "text": [
      "Обычный год\n"
     ]
    }
   ],
   "source": [
    "year1 = 2019\n",
    "if 2019 % 4 !=0:\n",
    "    print('Обычный год')"
   ]
  },
  {
   "cell_type": "code",
   "execution_count": 10,
   "metadata": {},
   "outputs": [
    {
     "name": "stdout",
     "output_type": "stream",
     "text": [
      "Введите месяц: май\n",
      "Введите день: 13\n",
      "Вы телец\n"
     ]
    }
   ],
   "source": [
    "# третье задание\n",
    "\n",
    "mes = str(input('Введите месяц: '))\n",
    "den = int(input('Введите день: '))\n",
    "\n",
    "if (mes == \"март\" and den >= 20) or (mes == \"апрель\" and den <=19):\n",
    "    print('Вы овен')\n",
    "elif (mes == \"апрель\" and den >= 20) or (mes == \"май\" and den <=20):\n",
    "    print('Вы телец')\n",
    "elif (mes == \"май\" and den >= 21) or (mes == \"июнь\" and den <=20):\n",
    "    print('Вы близнецы')\n",
    "elif (mes == \"июнь\" and den >= 21) or (mes == \"июль\" and den <=21):\n",
    "    print('Вы рак')\n",
    "elif (mes == \"июль\" and den >= 22) or (mes == \"август\" and den <=22):\n",
    "    print('Вы лев')\n",
    "elif (mes == \"август\" and den >= 23) or (mes == \"сентябрь\" and den <=22):\n",
    "    print('Вы дева')\n",
    "elif (mes == \"сентябрь\" and den >= 23) or (mes == \"октябрь\" and den <=22):\n",
    "    print('Вы весы')\n",
    "elif (mes == \"октябрь\" and den >= 23) or (mes == \"ноябрь\" and den <=21):\n",
    "    print('Вы скорпион')\n",
    "elif (mes == \"ноябрь\" and den >= 22) or (mes == \"декабрь\" and den <=21):\n",
    "    print('Вы стрелец')\n",
    "elif (mes == \"декабрь\" and den >= 22) or (mes == \"январь\" and den <=20):\n",
    "    print('Вы козерог')\n",
    "elif (mes == \"январь\" and den >= 21) or (mes == \"февраль\" and den <=18):\n",
    "    print('Вы водолей')\n",
    "elif (mes == \"февраль\" and den >= 19) or (mes == \"март\" and den <=19):\n",
    "    print('Вы рыбы')\n"
   ]
  },
  {
   "cell_type": "code",
   "execution_count": 39,
   "metadata": {},
   "outputs": [
    {
     "name": "stdout",
     "output_type": "stream",
     "text": [
      "Ширина: 20\n",
      "Длина: 200\n",
      "Высота: 20\n",
      "Упаковка для лыж\n"
     ]
    }
   ],
   "source": [
    "#четвертое задание \n",
    "\n",
    "width = int(input('Ширина: '))\n",
    "length = int(input('Длина: '))\n",
    "height = int(input('Высота: '))\n",
    "\n",
    "if length>=200:\n",
    "    print('Упаковка для лыж')\n",
    "    \n",
    "elif width>=50 and length>=50<200 and height>=50:\n",
    "    print('Стандартная коробка №3')\n",
    "    \n",
    "elif width>15 and length>15 and height>15:\n",
    "    print('Коробка №2')\n",
    "    \n",
    "elif width<=15 and length<=15 and height<=15:\n",
    "    print('Коробка №1')"
   ]
  }
 ],
 "metadata": {
  "kernelspec": {
   "display_name": "Python 3",
   "language": "python",
   "name": "python3"
  },
  "language_info": {
   "codemirror_mode": {
    "name": "ipython",
    "version": 3
   },
   "file_extension": ".py",
   "mimetype": "text/x-python",
   "name": "python",
   "nbconvert_exporter": "python",
   "pygments_lexer": "ipython3",
   "version": "3.8.3"
  }
 },
 "nbformat": 4,
 "nbformat_minor": 4
}
