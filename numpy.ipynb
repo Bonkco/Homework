{
 "cells": [
  {
   "cell_type": "code",
   "execution_count": 1,
   "metadata": {},
   "outputs": [],
   "source": [
    "import numpy as np"
   ]
  },
  {
   "cell_type": "code",
   "execution_count": 2,
   "metadata": {},
   "outputs": [
    {
     "name": "stdout",
     "output_type": "stream",
     "text": [
      "[8 7 6 5 4 3 2 1 0]\n"
     ]
    }
   ],
   "source": [
    "#первое задание\n",
    "\n",
    "numbers = np.array([8, 7, 6, 5, 4, 3, 2, 1, 0])\n",
    "print(numbers)"
   ]
  },
  {
   "cell_type": "code",
   "execution_count": 3,
   "metadata": {},
   "outputs": [
    {
     "name": "stdout",
     "output_type": "stream",
     "text": [
      "Матрица:\n",
      "[[8 7 6]\n",
      " [5 4 3]\n",
      " [2 1 0]]\n",
      "Сумма диагоналей матрицы: 24\n"
     ]
    }
   ],
   "source": [
    "#второе задание\n",
    "\n",
    "n = numbers.reshape(3,3)\n",
    "print('Матрица:')\n",
    "print(n)\n",
    "\n",
    "diag1 = np.asarray(n)\n",
    "diag2 = np.fliplr(diag1)\n",
    "print('Сумма диагоналей матрицы:',np.trace(diag1)+np.trace(diag2))"
   ]
  },
  {
   "cell_type": "code",
   "execution_count": 5,
   "metadata": {},
   "outputs": [
    {
     "name": "stdout",
     "output_type": "stream",
     "text": [
      "[-5.18181818  5.72727273 13.27272727]\n"
     ]
    },
    {
     "data": {
      "text/plain": [
       "True"
      ]
     },
     "execution_count": 5,
     "metadata": {},
     "output_type": "execute_result"
    }
   ],
   "source": [
    "#задание третье \n",
    "\n",
    "# 4x + 2y + z = 4\n",
    "# x + 3y = 12\n",
    "# 5y + 4z = -3\n",
    "\n",
    "a = np.array([[4,2,1],[1,3,0],[5,4,0]])\n",
    "b = np.array([4,12,-3])\n",
    "\n",
    "from numpy import linalg\n",
    "\n",
    "print(linalg.solve(a, b))\n",
    "np.allclose(np.dot(a, linalg.solve(a, b)), b) #проверка"
   ]
  },
  {
   "cell_type": "code",
   "execution_count": 54,
   "metadata": {},
   "outputs": [
    {
     "name": "stdout",
     "output_type": "stream",
     "text": [
      "Наиболее похожий пользователь находится под номером 8\n",
      "Косинусное сходство между этим пользователем и новым посетителем 0.9486832980505138\n"
     ]
    }
   ],
   "source": [
    "#задание четвертое\n",
    "\n",
    "users_stats = np.array(\n",
    "    [\n",
    "        [2, 1, 0, 0, 0, 0],\n",
    "        [1, 1, 2, 1, 0, 0],\n",
    "        [2, 0, 1, 0, 0, 0],\n",
    "        [1, 1, 2, 1, 0, 1],\n",
    "        [0, 0, 1, 2, 0, 0],\n",
    "        [0, 0, 0, 0, 0, 5],\n",
    "        [1, 0, 0, 0, 0, 0],\n",
    "        [0, 1, 1, 0, 0, 0],\n",
    "        [0, 0, 0, 1, 1, 3],\n",
    "        [1, 0, 0, 2, 1, 4]\n",
    "    ], \n",
    "    np.int32\n",
    ")\n",
    "next_user_stats = np.array([0, 1, 2, 0, 0, 0])\n",
    "maxvalue = 0\n",
    "usernumber = 0\n",
    "\n",
    "for user in users_stats:\n",
    "    usernumber += 1\n",
    "    aLength = np.linalg.norm(user)\n",
    "    bLength = np.linalg.norm(next_user_stats)    \n",
    "    cos = (np.dot(user,next_user_stats)/(aLength*bLength))\n",
    "    if cos > maxvalue:\n",
    "        maxvalue = cos\n",
    "        usern = usernumber\n",
    "print('Наиболее похожий пользователь находится под номером', usern)\n",
    "print('Косинусное сходство между этим пользователем и новым посетителем', maxvalue)"
   ]
  }
 ],
 "metadata": {
  "kernelspec": {
   "display_name": "Python 3",
   "language": "python",
   "name": "python3"
  },
  "language_info": {
   "codemirror_mode": {
    "name": "ipython",
    "version": 3
   },
   "file_extension": ".py",
   "mimetype": "text/x-python",
   "name": "python",
   "nbconvert_exporter": "python",
   "pygments_lexer": "ipython3",
   "version": "3.8.3"
  }
 },
 "nbformat": 4,
 "nbformat_minor": 4
}
