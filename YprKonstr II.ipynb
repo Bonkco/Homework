{
 "cells": [
  {
   "cell_type": "code",
   "execution_count": 56,
   "metadata": {},
   "outputs": [
    {
     "name": "stdout",
     "output_type": "stream",
     "text": [
      "[213, 15]\n",
      "[54, 119]\n",
      "[213, 98, 35]\n"
     ]
    }
   ],
   "source": [
    "#Первое задание\n",
    "\n",
    "ids = {'user1': [213, 213, 213, 15, 213],\n",
    "    'user2': [54, 54, 119, 119, 119],\n",
    "    'user3': [213, 98, 98, 35]}\n",
    "\n",
    "for us1 in ids.values():\n",
    "    #print(us1)\n",
    "    from  more_itertools import unique_everseen\n",
    "    print(list(unique_everseen(us1)))\n",
    "\n"
   ]
  },
  {
   "cell_type": "code",
   "execution_count": 51,
   "metadata": {},
   "outputs": [
    {
     "name": "stdout",
     "output_type": "stream",
     "text": [
      "Поисковых запросов, содержащих 3 слов(а): 57.14 %\n",
      "Поисковых запросов, содержащих 2 слов(а): 42.86 %\n"
     ]
    }
   ],
   "source": [
    "#Второе задание\n",
    "\n",
    "queries = [\n",
    "'смотреть сериалы онлайн',\n",
    "'новости спорта',\n",
    "'афиша кино',\n",
    "'курс доллара',\n",
    "'сериалы этим летом',\n",
    "'курс по питону',\n",
    "'сериалы про спорт',\n",
    "]\n",
    "slvr = {}\n",
    "howmany = (len(queries))\n",
    "#print(type(howmany))\n",
    "\n",
    "for new1 in queries:\n",
    "    #print(new1)\n",
    "    lenght = len(new1.split())\n",
    "    #print(lenght)\n",
    "    if lenght not in slvr:\n",
    "        slvr[lenght] = 1\n",
    "    else:\n",
    "        slvr[lenght] +=1\n",
    "\n",
    "for key, lenght in slvr.items():\n",
    "    itog = ((lenght * 100)/howmany)\n",
    "    print(f'Поисковых запросов, содержащих {key} слов(а): {itog:.2f} %')"
   ]
  },
  {
   "cell_type": "code",
   "execution_count": 54,
   "metadata": {},
   "outputs": [
    {
     "name": "stdout",
     "output_type": "stream",
     "text": [
      "vk\n",
      "{'revenue': 103, 'cost': 98} ROI 5.10\n",
      "yandex\n",
      "{'revenue': 179, 'cost': 153} ROI 16.99\n",
      "facebook\n",
      "{'revenue': 103, 'cost': 110} ROI -6.36\n",
      "adwords\n",
      "{'revenue': 35, 'cost': 34} ROI 2.94\n",
      "twitter\n",
      "{'revenue': 11, 'cost': 24} ROI -54.17\n"
     ]
    }
   ],
   "source": [
    "#Третье задание \n",
    "\n",
    "results = {\n",
    "'vk': {'revenue': 103, 'cost': 98},\n",
    "'yandex': {'revenue': 179, 'cost': 153},\n",
    "'facebook': {'revenue': 103, 'cost': 110},\n",
    "'adwords': {'revenue': 35, 'cost': 34},\n",
    "'twitter': {'revenue': 11, 'cost': 24},\n",
    "}\n",
    "\n",
    "for name, znach in results.items():\n",
    "    print(name) \n",
    "    #print(znach)\n",
    "    roi = ((znach['revenue']/znach['cost']-1)*100)\n",
    "    print(f'{znach} ROI {roi:.2f}')"
   ]
  },
  {
   "cell_type": "code",
   "execution_count": 74,
   "metadata": {},
   "outputs": [
    {
     "name": "stdout",
     "output_type": "stream",
     "text": [
      "Максимальный объем продаж на рекламном канале: vk\n"
     ]
    }
   ],
   "source": [
    "#Четвертое задание\n",
    "\n",
    "stats = {'facebook': 55, 'yandex': 115, 'vk': 120, 'google': 99, 'email': 42, 'ok': 98}\n",
    "\n",
    "print('Максимальный объем продаж на рекламном канале:', max(stats, key=stats.get))"
   ]
  },
  {
   "cell_type": "code",
   "execution_count": null,
   "metadata": {},
   "outputs": [],
   "source": []
  }
 ],
 "metadata": {
  "kernelspec": {
   "display_name": "Python 3",
   "language": "python",
   "name": "python3"
  },
  "language_info": {
   "codemirror_mode": {
    "name": "ipython",
    "version": 3
   },
   "file_extension": ".py",
   "mimetype": "text/x-python",
   "name": "python",
   "nbconvert_exporter": "python",
   "pygments_lexer": "ipython3",
   "version": "3.8.3"
  }
 },
 "nbformat": 4,
 "nbformat_minor": 4
}
