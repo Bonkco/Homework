{
 "cells": [
  {
   "cell_type": "code",
   "execution_count": 21,
   "metadata": {},
   "outputs": [
    {
     "name": "stdout",
     "output_type": "stream",
     "text": [
      "Напечатайте слово: први\n",
      "рв\n"
     ]
    }
   ],
   "source": [
    "#первое задание\n",
    "\n",
    "word = (input('Напечатайте слово: '))\n",
    "while 1:\n",
    "    if len(word)%2==0:\n",
    "        my_index = int((len(word)/2) - 1)\n",
    "        print(word[my_index] + word[my_index+1])\n",
    "        break\n",
    "    elif len(word)%2!=0:\n",
    "        my_index = int(len(word)/2)\n",
    "        print(word[my_index])\n",
    "    break"
   ]
  },
  {
   "cell_type": "code",
   "execution_count": 22,
   "metadata": {},
   "outputs": [
    {
     "name": "stdout",
     "output_type": "stream",
     "text": [
      "Введите число: 1\n",
      "Введите число: 2\n",
      "Введите число: 3\n",
      "Введите число: 43\n",
      "Введите число: 0\n",
      "49\n"
     ]
    }
   ],
   "source": [
    "#второе задание\n",
    "\n",
    "counter = 0\n",
    "will_continue = True\n",
    "\n",
    "while will_continue:\n",
    "    user_input = int(input('Введите число: '))\n",
    "    if user_input == 0:\n",
    "        print(counter)\n",
    "        will_continue = False\n",
    "    else:\n",
    "        counter += user_input"
   ]
  },
  {
   "cell_type": "code",
   "execution_count": 136,
   "metadata": {},
   "outputs": [
    {
     "name": "stdout",
     "output_type": "stream",
     "text": [
      "Идеальные пары:\n",
      "Alex и Emma\n",
      "Arthur и Kate\n",
      "John и Kira\n",
      "Peter и Liza\n",
      "Richard и Trisha\n",
      "\n",
      "Добавляем к мальчикам Васю ->\n",
      "Внимание, кто-то может остаться без пары!\n"
     ]
    }
   ],
   "source": [
    "#третье задание\n",
    "\n",
    "boys = ['Peter', 'Alex', 'John', 'Arthur', 'Richard']\n",
    "girls = ['Kate', 'Liza', 'Kira', 'Emma', 'Trisha']\n",
    "\n",
    "#childrens = list(zip(sorted(boys), sorted(girls)))\n",
    "#print(childrens)\n",
    "print('Идеальные пары:')\n",
    "for x, y in zip(sorted(boys),sorted(girls)):\n",
    "    print(x,'и',y)\n",
    "print()\n",
    "print('Добавляем к мальчикам Васю ->')\n",
    "boys.append('Vasya')\n",
    "if len(boys)!=len(girls):\n",
    "    print('Внимание, кто-то может остаться без пары!')\n",
    "\n",
    "    \n"
   ]
  },
  {
   "cell_type": "code",
   "execution_count": 112,
   "metadata": {},
   "outputs": [
    {
     "name": "stdout",
     "output_type": "stream",
     "text": [
      "Средняя температура в странах: \n",
      "Thailand\n",
      "23.9 °C\n",
      "Germany\n",
      "13.8 °C\n",
      "Russia\n",
      "3.7 °C\n",
      "Poland\n",
      "12.0 °C\n"
     ]
    }
   ],
   "source": [
    "#четвертое задание\n",
    "\n",
    "countries_temperature = [\n",
    "['Thailand', [75.2, 77, 78.8, 73.4, 68, 75.2, 77]],\n",
    "['Germany', [57.2, 55.4, 59, 59, 53.6]],\n",
    "['Russia', [35.6, 37.4, 39.2, 41, 42.8, 39.2, 35.6]],\n",
    "['Poland', [50, 50, 53.6, 57.2, 55.4, 55.4]]\n",
    "]\n",
    "\n",
    "print('Средняя температура в странах: ')\n",
    "for countries in countries_temperature:\n",
    "    print(countries[0])\n",
    "    accumulator = 0\n",
    "    for temperature in countries[1]:\n",
    "            accumulator += temperature\n",
    "    average = accumulator/len(countries[1])\n",
    "    celsium = (average - 32) / 1.8\n",
    "    print(str('{:.1f}'.format(celsium)), '\\u00B0C')"
   ]
  },
  {
   "cell_type": "code",
   "execution_count": null,
   "metadata": {},
   "outputs": [],
   "source": []
  }
 ],
 "metadata": {
  "kernelspec": {
   "display_name": "Python 3",
   "language": "python",
   "name": "python3"
  },
  "language_info": {
   "codemirror_mode": {
    "name": "ipython",
    "version": 3
   },
   "file_extension": ".py",
   "mimetype": "text/x-python",
   "name": "python",
   "nbconvert_exporter": "python",
   "pygments_lexer": "ipython3",
   "version": "3.8.3"
  }
 },
 "nbformat": 4,
 "nbformat_minor": 4
}
